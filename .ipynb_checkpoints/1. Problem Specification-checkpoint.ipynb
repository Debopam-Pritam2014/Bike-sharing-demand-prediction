{
 "cells": [
  {
   "cell_type": "markdown",
   "id": "2cb589ad",
   "metadata": {},
   "source": [
    "<h1> Problem Definition</h1>"
   ]
  },
  {
   "cell_type": "markdown",
   "id": "b96d06d8",
   "metadata": {},
   "source": [
    "A US Bike-Sharing provider `BoomBikes` has a daily dataset on the rental bikes based on various environmental and seasonal settings."
   ]
  },
  {
   "cell_type": "markdown",
   "id": "a9d9e7e2",
   "metadata": {},
   "source": [
    "It Wishes to use this data to understand the factors affecting the demand for this shared bikes in the american market and come up with a mindful business plan to be able to accelerate its revenue as soon as the lockdown due to corona pandemic comes to an end."
   ]
  },
  {
   "cell_type": "markdown",
   "id": "65d4e1fa",
   "metadata": {},
   "source": [
    "Essentially the company wants to know\n",
    "<li>Which varibales are significant in predicting the demand for shared bikes</li>\n",
    "<li>How well those variable describe the bike demand</li>"
   ]
  },
  {
   "cell_type": "markdown",
   "id": "367e4d49",
   "metadata": {},
   "source": [
    "<h2>Project Outline</h2>"
   ]
  },
  {
   "cell_type": "markdown",
   "id": "ba8f175c",
   "metadata": {},
   "source": [
    "The solution will be:\n",
    "<li> Data understanding and Exploration</li>\n",
    "<li> Data Visualization</li>\n",
    "<li> Data Preparation</li>\n",
    "<li> Model Building</li>\n",
    "<li> Model Evaluation</li>"
   ]
  },
  {
   "cell_type": "code",
   "execution_count": null,
   "id": "e999adca",
   "metadata": {},
   "outputs": [],
   "source": []
  }
 ],
 "metadata": {
  "kernelspec": {
   "display_name": "Python 3 (ipykernel)",
   "language": "python",
   "name": "python3"
  },
  "language_info": {
   "codemirror_mode": {
    "name": "ipython",
    "version": 3
   },
   "file_extension": ".py",
   "mimetype": "text/x-python",
   "name": "python",
   "nbconvert_exporter": "python",
   "pygments_lexer": "ipython3",
   "version": "3.11.2"
  }
 },
 "nbformat": 4,
 "nbformat_minor": 5
}
